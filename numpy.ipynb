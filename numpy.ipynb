{
 "cells": [
  {
   "cell_type": "code",
   "execution_count": 8,
   "metadata": {},
   "outputs": [
    {
     "data": {
      "text/plain": [
       "array([1, 2, 3, 4])"
      ]
     },
     "execution_count": 8,
     "metadata": {},
     "output_type": "execute_result"
    }
   ],
   "source": [
    "import numpy as np\n",
    "\n",
    "# using list to create numpy arrays\n",
    "list_arr = [1,2,3,4]\n",
    "arr = np.array(list_arr)\n",
    "arr\n",
    "\n",
    "# using tuples to create numpy array\n",
    "# TASK: CREATE A NUMPY ARRAY USING A TUPLE\n",
    "tuple_arr = (1,2,3,4)\n",
    "arr = np.array(tuple_arr)\n",
    "arr\n",
    "\n",
    "\n"
   ]
  },
  {
   "cell_type": "code",
   "execution_count": null,
   "metadata": {},
   "outputs": [],
   "source": []
  },
  {
   "cell_type": "code",
   "execution_count": null,
   "metadata": {},
   "outputs": [],
   "source": []
  },
  {
   "cell_type": "code",
   "execution_count": null,
   "metadata": {},
   "outputs": [],
   "source": []
  },
  {
   "cell_type": "code",
   "execution_count": null,
   "metadata": {},
   "outputs": [],
   "source": []
  },
  {
   "cell_type": "code",
   "execution_count": 18,
   "metadata": {},
   "outputs": [
    {
     "data": {
      "text/plain": [
       "3"
      ]
     },
     "execution_count": 18,
     "metadata": {},
     "output_type": "execute_result"
    }
   ],
   "source": [
    "# DIMENSIONS IN NUMPY\n",
    "\n",
    "#  0-D ARRAY\n",
    "zero_d = np.array(53)\n",
    "zero_d.ndim\n",
    "\n",
    "# 1-D ARRAY\n",
    "one_d = np.array([1,2,3,4])\n",
    "one_d.ndim\n",
    "\n",
    "# 2-D ARRAY\n",
    "two_d = np.array([[1,2,3,4], [5,6,7,8], [9,10,11,12]])\n",
    "two_d.ndim\n",
    "\n",
    "# TASK: CREATE A 3-D ARRAY\n",
    "three_d = np.array([[[1,2,3,4], [5,6,7,8]]])\n",
    "three_d.ndim"
   ]
  },
  {
   "cell_type": "code",
   "execution_count": 62,
   "metadata": {},
   "outputs": [
    {
     "data": {
      "text/plain": [
       "array([[1., 0., 0., 0.],\n",
       "       [0., 1., 0., 0.],\n",
       "       [0., 0., 1., 0.],\n",
       "       [0., 0., 0., 1.]])"
      ]
     },
     "execution_count": 62,
     "metadata": {},
     "output_type": "execute_result"
    }
   ],
   "source": [
    "# CREATING MUMPY ARRAYS WITH THE FOLLOWING NUMPY METHODS\n",
    "# 1. linspace\n",
    "# 2. arange\n",
    "# 3. random\n",
    "# 4. zeroes\n",
    "# 5. ones\n",
    "# 6. identities\n",
    "\n",
    "# ONES ARRAY\n",
    "from numpy import identity\n",
    "\n",
    "\n",
    "arr_ones = np.ones((4,5))\n",
    "arr_ones\n",
    "\n",
    "# ZEROES ARRAY\n",
    "zeroes_arr = np.zeros((3,4))\n",
    "zeroes_arr\n",
    "\n",
    "# ARANGE ARRAYS\n",
    "arange_arr = np.arange(1,5)\n",
    "arange_arr\n",
    "\n",
    "# LINSPACES ARRAYS\n",
    "linspace_arr = np.linspace(1,5,10)\n",
    "linspace_arr\n",
    "\n",
    "# RANDOM ARRAYS\n",
    "# SAMPLE 1\n",
    "random_arr = np.random.randint(2,10,10)\n",
    "\n",
    "# SAMPLE 2\n",
    "random_arr = np.random.randint(2, size=10)\n",
    "\n",
    "# SAMPLE 3\n",
    "random_arr = np.random.randint(2, size=(2,4))\n",
    "random_arr\n",
    "\n",
    "# IDENTITIES ARRAY\n",
    "identity_arr = np.identity(4)\n",
    "identity_arr\n"
   ]
  },
  {
   "cell_type": "code",
   "execution_count": 77,
   "metadata": {},
   "outputs": [
    {
     "data": {
      "text/plain": [
       "array([1., 2., 3.])"
      ]
     },
     "execution_count": 77,
     "metadata": {},
     "output_type": "execute_result"
    }
   ],
   "source": [
    "# NUMPY ATTRIBUTES\n",
    "# 1. ndim\n",
    "# 2. shape\n",
    "# 3. size\n",
    "# 4. dtype\n",
    "\n",
    "# NDIM ATTRIBUTES\n",
    "# new_arr = np.array([\n",
    "#     [1,2,3,4], \n",
    "#     [5,6,7,8]\n",
    "# ])\n",
    "new_arr = np.array([1, 2, 4 ,2,3,4])\n",
    "new_arr.ndim\n",
    "new_arr.shape\n",
    "\n",
    "# SHAPE ATTRIBUTES\n",
    "# row, col = new_arr.shape\n",
    "# print(f'this has {row} rows and {col} columns')\n",
    "\n",
    "# SIZE ATTRIBUTES\n",
    "# new_arr.size\n",
    "\n",
    "# DTYPE\n",
    "new_arr.dtype\n",
    "\n",
    "# DTYPE SAMPLE 2\n",
    "dtype_arr = np.array([1,2,3], dtype=np.float64)\n",
    "dtype_arr"
   ]
  },
  {
   "cell_type": "code",
   "execution_count": 11,
   "metadata": {},
   "outputs": [
    {
     "data": {
      "text/plain": [
       "2"
      ]
     },
     "execution_count": 11,
     "metadata": {},
     "output_type": "execute_result"
    }
   ],
   "source": [
    "# DAY 1 CHALLENGES\n",
    "\n",
    "# TASK 1\n",
    "# given the following number between 1 and 6\n",
    "# create a two dimensional array, with the numbers\n",
    "\n",
    "# TASK 2\n",
    "# create a four dimensional array \n",
    "\n",
    "# TASK 3\n",
    "# Create a 2-D array containing two arrays with the values 1,2,3 and 4,5,6:\n"
   ]
  },
  {
   "cell_type": "code",
   "execution_count": 9,
   "metadata": {},
   "outputs": [
    {
     "name": "stdout",
     "output_type": "stream",
     "text": [
      "Addition [20 20]\n",
      "Subtraction [0 0]\n",
      "Multiply [100 100]\n",
      "Division [1. 1.]\n",
      "Power Method 1 [100 100]\n",
      "Power Method 2 [1410065408 1410065408]\n",
      "Mod [0 0]\n",
      "Addition with more dimensions [[20 30]\n",
      " [20 30]]\n"
     ]
    }
   ],
   "source": [
    "# OPERATIONS IN NUMPY\n",
    "import numpy as np\n",
    "\n",
    "arr1 = np.array([10, 10])\n",
    "arr2 = np.array([10, 10])\n",
    "arr3 = np.array([[10, 20], [10, 20]])\n",
    "\n",
    "# ADDITION\n",
    "print('Addition', np.add(arr1, arr2))\n",
    "\n",
    "# SUBTRACTION\n",
    "print('Subtraction', np.subtract(arr1, arr2))\n",
    "\n",
    "# MULTIPLICATION\n",
    "print('Multiply', np.multiply(arr1, arr2))\n",
    "\n",
    "# DIVISION\n",
    "print('Division', np.divide(arr1, arr2))\n",
    "\n",
    "# POWER - METHOD 1\n",
    "print('Power Method 1', np.power(arr1, 2))\n",
    "\n",
    "# POWER - METHOD 2\n",
    "print('Power Method 2', np.power(arr1, arr2))\n",
    "\n",
    "# MOD => MODULUS\n",
    "print('Mod', np.mod(arr1, arr2))\n",
    "\n",
    "# NUMPY OPERATION WITH MORE THAN ONE DIMENSIONS\n",
    "print('Addition with more dimensions', np.add(arr2, arr3))\n",
    "\n"
   ]
  },
  {
   "cell_type": "code",
   "execution_count": 32,
   "metadata": {},
   "outputs": [
    {
     "name": "stdout",
     "output_type": "stream",
     "text": [
      "Sum:  25\n",
      "Prod:  3000\n",
      "Mean:  3.5714285714285716\n",
      "Std:  1.498298354528788\n",
      "Var:  2.2448979591836737\n",
      "Min:  1\n",
      "Max:  5\n",
      "Argmin:  0\n",
      "Argmax:  4\n",
      "Median:  4.0\n",
      "Mode ModeResult(mode=array([5]), count=array([3]))\n"
     ]
    }
   ],
   "source": [
    "from scipy import stats\n",
    "# AGGREGATE FUNCTIONS AND STATISTICS\n",
    "\n",
    "# 1. Sum\n",
    "# 2. prod\n",
    "# 3. mean\n",
    "# 4. std\n",
    "# 5. var\n",
    "# 6. min\n",
    "# 7. max\n",
    "# 8. argmin\n",
    "# 9. argmax\n",
    "# 10. median\n",
    "\n",
    "# SUM\n",
    "arr = np.array([1,2,3,4,5, 5,5])\n",
    "print('Sum: ', np.sum(arr))\n",
    "\n",
    "# PROD\n",
    "print('Prod: ', np.prod(arr))\n",
    "\n",
    "# MEAN\n",
    "print('Mean: ', np.mean(arr))\n",
    "\n",
    "# STD => STANDARD DEVIATION\n",
    "print('Std: ', np.std(arr))\n",
    "\n",
    "# VAR => VARIANCE\n",
    "print('Var: ', np.var(arr))\n",
    "\n",
    "# MIN => MINIMUM\n",
    "print('Min: ', np.min(arr))\n",
    "\n",
    "# MAX => MAXIMUM\n",
    "print('Max: ', np.max(arr))\n",
    "\n",
    "# ARGMIN => RETURNS THE MINIMUM INDEX\n",
    "print('Argmin: ', np.argmin(arr))\n",
    "\n",
    "# ARGMAX => RETURNS THE MAXIMUM INDEX\n",
    "print('Argmax: ', np.argmax(arr))\n",
    "\n",
    "# MEDIAN\n",
    "print('Median: ', np.median(arr))\n",
    "\n",
    "# MODE\n",
    "print('Mode', stats.mode(arr))\n"
   ]
  },
  {
   "cell_type": "code",
   "execution_count": 37,
   "metadata": {},
   "outputs": [
    {
     "data": {
      "text/plain": [
       "array([ 3,  7, 11])"
      ]
     },
     "execution_count": 37,
     "metadata": {},
     "output_type": "execute_result"
    }
   ],
   "source": [
    "# ARRAY AXIS\n",
    "arr = np.array([\n",
    "    [1,2],\n",
    "    [3,4],\n",
    "    [5,6]\n",
    "])\n",
    "\n",
    "# arr.sum()\n",
    "arr.sum(axis=0)\n",
    "arr.sum(axis=1)"
   ]
  },
  {
   "cell_type": "code",
   "execution_count": 54,
   "metadata": {},
   "outputs": [
    {
     "name": "stdout",
     "output_type": "stream",
     "text": [
      "6\n",
      "9\n",
      "9\n"
     ]
    }
   ],
   "source": [
    "# ARRAY INDEXING AND SLICING\n",
    "arr = np.array([1,2,3,4,5])\n",
    "# print(arr[-2])\n",
    "\n",
    "arr2 = np.array([\n",
    "    [1,2,3,4,5], \n",
    "    [6,7,8,9,10]\n",
    "])\n",
    "\n",
    "# Access 6\n",
    "print(arr2[1,0])\n",
    "\n",
    "# Access 9\n",
    "print(arr2[1,3])\n",
    "\n",
    "# Access 9\n",
    "print(arr2[-1, -2])"
   ]
  },
  {
   "cell_type": "code",
   "execution_count": 68,
   "metadata": {},
   "outputs": [
    {
     "name": "stdout",
     "output_type": "stream",
     "text": [
      "[5 6]\n",
      "[ 7  8  9 10]\n"
     ]
    }
   ],
   "source": [
    "# SLICING\n",
    "arr = np.array([1,2,3,4,5,6,7])\n",
    "arr2 = np.array([[1,2,3,4,5], [6,7,8,9,10]])\n",
    "\n",
    "# Slice elements from index 1 to index 5\n",
    "# print(arr[1:6])\n",
    "\n",
    "# slice elements from index 4 to the end of the array\n",
    "# print(arr[4:])\n",
    "\n",
    "# slice elements from the beginning to index 4 (not included)\n",
    "# print('Jessica', arr[:4])\n",
    "# print('Brighten', arr[:4])\n",
    "\n",
    "# slice from the index 3 from the end to index 1 from the end\n",
    "print(arr[-3:-1])\n",
    "\n",
    "arr2 = np.array([[1, 2, 3, 4, 5], [6, 7, 8, 9, 10]])\n",
    "# from the second element, slice elements from index 1 to index 4\n",
    "print(arr2[1, 1:5])"
   ]
  },
  {
   "cell_type": "code",
   "execution_count": 70,
   "metadata": {},
   "outputs": [
    {
     "name": "stdout",
     "output_type": "stream",
     "text": [
      "[3 4 5]\n"
     ]
    }
   ],
   "source": [
    "# FANCY INDEXING\n",
    "arr = np.arange(1,10)\n",
    "index = np.array([2,3,4])\n",
    "print(arr[index])"
   ]
  },
  {
   "cell_type": "code",
   "execution_count": 77,
   "metadata": {},
   "outputs": [
    {
     "name": "stdout",
     "output_type": "stream",
     "text": [
      "array [[0 9 0]\n",
      " [0 7 8]\n",
      " [6 0 1]]\n",
      "the mask [9 7 8 6]\n",
      "the mask, another method [9 7 8 6]\n"
     ]
    }
   ],
   "source": [
    "# BOOLEAN ARRAYS AND MASKING\n",
    "# BOOLEAN INDEXING\n",
    "\n",
    "# There are two methods of carrying out boolean masking\n",
    "# Method one: Return the result array\n",
    "# Method Two: Returns a boolean array\n",
    "\n",
    "# Method One:\n",
    "arr = np.arange(15)\n",
    "# print('array', arr)\n",
    "\n",
    "# using boolean masking\n",
    "# print(arr[arr >= 8])\n",
    "# print(arr[arr == 12])\n",
    "\n",
    "# Method Two\n",
    "arr = np.array([\n",
    "    [0, 9, 0],\n",
    "    [0, 7, 8],\n",
    "    [6, 0, 1],\n",
    "])\n",
    "print('array', arr)\n",
    "# create a mask array\n",
    "mask = arr > 5\n",
    "# print the mask array => return boolean\n",
    "print('mask', mask)\n",
    "\n",
    "# print out the filtered array using both methods\n",
    "print('the mask', arr[mask])\n",
    "print('the mask, another method', arr[arr > 5])"
   ]
  },
  {
   "cell_type": "code",
   "execution_count": 3,
   "metadata": {},
   "outputs": [
    {
     "data": {
      "text/plain": [
       "15"
      ]
     },
     "execution_count": 3,
     "metadata": {},
     "output_type": "execute_result"
    }
   ],
   "source": [
    "# CHALLENGE\n",
    "# 1. Create a two dimension array with two values as items ranging from 1-4, and another array with 1 dimension, perform an addition, subtraction, multiplication, division and power operation with both arrays, hence also get the remainder of your division.\n",
    "\n",
    "# 2. Given the array [[1,2,3,5,8], [6,7,8,9,10]], find the median, sum, and max of the second item in the array, if the max is equal to 10, hence return the index of the index of the max, else return the index of the index of the min value\n",
    "\n",
    "# 3. Given the array \n",
    "# arr = np.array([\n",
    "#     [1,2],\n",
    "#     [3,4],\n",
    "#     [5,6]\n",
    "# ])\n",
    "# calculate the sum of the array by column and rows\n",
    "\n",
    "# 4. given the array [1,2,4,5,6,7,8]\n",
    "# use fancy indexing to get from index 2 to \n",
    "\n",
    "# 5. given the array below, get the last value of the first element and the second element, add and subtract both values, use the result of both values to create a 2-dimension array with random values with a total length of values each in both elements\n",
    "# arr = np.array([[1,2,3,4,5], [6,7,8,9,10]])\n",
    "\n",
    "# 6. given the array below, find the odd numbers in the array and return the result array and the boolean array\n",
    "# arr = np.array([\n",
    "#     [2, 9, 5],\n",
    "#     [4, 7, 8],\n",
    "#     [6, 3, 1],\n",
    "# ])"
   ]
  },
  {
   "cell_type": "code",
   "execution_count": 6,
   "metadata": {},
   "outputs": [
    {
     "data": {
      "text/plain": [
       "array([[2, 4],\n",
       "       [4, 6],\n",
       "       [6, 8]])"
      ]
     },
     "execution_count": 6,
     "metadata": {},
     "output_type": "execute_result"
    }
   ],
   "source": [
    "# BROADCASTING\n",
    "import numpy as np\n",
    "\n",
    "arr1 = np.array([[1,2], [3,4], [5,6]])\n",
    "arr2 = np.array([[1,2], [1,2], [1,2]])\n",
    "\n",
    "np.add(arr1, arr2)"
   ]
  },
  {
   "cell_type": "code",
   "execution_count": 8,
   "metadata": {},
   "outputs": [
    {
     "name": "stdout",
     "output_type": "stream",
     "text": [
      "[5 7 9]\n"
     ]
    }
   ],
   "source": [
    "# UNIVERSAL FUNCTIONS\n",
    "\n",
    "def add(x, y):\n",
    "    return x + y\n",
    "\n",
    "# sum = add(1,2)\n",
    "\n",
    "sum = np.frompyfunc(add, 2, 1)\n",
    "print(sum(\n",
    "    [1,2,3], \n",
    "    [4,5,6])\n",
    ")\n"
   ]
  },
  {
   "cell_type": "code",
   "execution_count": 21,
   "metadata": {},
   "outputs": [
    {
     "name": "stdout",
     "output_type": "stream",
     "text": [
      "[[1 2 3]\n",
      " [4 5 6]]\n",
      "[1 2 3 4 5 6]\n"
     ]
    },
    {
     "data": {
      "text/plain": [
       "2"
      ]
     },
     "execution_count": 21,
     "metadata": {},
     "output_type": "execute_result"
    }
   ],
   "source": [
    "# RESHAPING\n",
    "\n",
    "# Reshaping means changing the shape of an array.\n",
    "# The shape of an array is the number of elements in each dimension\n",
    "# by reshaping we could add or remove dimensions or change the numbers of elements\n",
    "# in each dimension.\n",
    "\n",
    "# EXAMPLE 1\n",
    "# Convert the following array 1-d array with 12 elements into a 2-d array\n",
    "# arr = np.array([1,2,3,4,5,6,7,8,9,10,11,12])\n",
    "# newarr = arr.reshape(4,3)\n",
    "# newarr\n",
    "\n",
    "# EXAMPLE 2\n",
    "# Convert the followoing 1-D array with 12 elements to 3-D ARRAY\n",
    "arr = np.array([1,2,3,4,5,6,7,8,9,10,11,12])\n",
    "newarr = arr.reshape(2, 3, 2)\n",
    "\n",
    "newarr\n",
    "\n",
    "# EXMAPLE 3\n",
    "# FLATTENING\n",
    "# CONVERTING A MULTIDIMENSIONAL ARRAY TO A 1 DIMENSIONAL ARRAY\n",
    "arr = np.array([[1, 2, 3], [4,5,6]])\n",
    "\n",
    "print(arr)\n",
    "newarr = arr.reshape(-1)\n",
    "print(newarr)"
   ]
  },
  {
   "cell_type": "code",
   "execution_count": 26,
   "metadata": {},
   "outputs": [
    {
     "name": "stdout",
     "output_type": "stream",
     "text": [
      "[[1 4]\n",
      " [2 5]\n",
      " [3 6]]\n",
      "\n",
      "[[1 2 3]\n",
      " [4 5 6]]\n"
     ]
    }
   ],
   "source": [
    "# SPLITING AND STACKING ARRAYS\n",
    "\n",
    "# SPLITTING\n",
    "arr = np.array([1,2,3,4,5,6])\n",
    "newarr = np.array_split(arr, 3)\n",
    "# print(newarr)\n",
    "\n",
    "first, second, third = newarr\n",
    "# print(first)\n",
    "# print(second)\n",
    "# print(third)\n",
    "\n",
    "# STACKING\n",
    "# Stack is used for joining multiple arrays. it joins along a new axis. it returns a numpy array\n",
    "# to join two array, they must have the same shape and dimension\n",
    "# stacking create a new array\n",
    "a = np.array([1,2,3])\n",
    "b = np.array([4,5,6])\n",
    "\n",
    "# stacking the arrays a and b\n",
    "# axis 1 = col\n",
    "# axis 0 = row\n",
    "c = np.stack((a,b), axis=1)\n",
    "d = np.stack((a,b), axis=0)\n",
    "\n",
    "print(c)\n",
    "print('')\n",
    "print(d)"
   ]
  },
  {
   "cell_type": "code",
   "execution_count": 41,
   "metadata": {},
   "outputs": [
    {
     "name": "stdout",
     "output_type": "stream",
     "text": [
      "[1 4 7]\n",
      "[ 1  2  3  4  5  6  7  8  9 10]\n"
     ]
    }
   ],
   "source": [
    "# INSERTING AND REMOVING ELEMENTS FROM A NUMPY ARRAY\n",
    "a = np.array([1,2,3,4,5,6])\n",
    "# print(a)\n",
    "\n",
    "# delete/remove the first element\n",
    "# print('removing the first element', np.delete(a, 0))\n",
    "\n",
    "# delete the first and fifth element\n",
    "# print('removing the 1st and 5th element', np.delete(a, [0,4]))\n",
    "\n",
    "# using conditions\n",
    "# print('removing 6 using conditions: ', np.delete(a, np.where(a == 6)))\n",
    "\n",
    "# performing a delete by rows and cols\n",
    "# GOAL: DELETE THE FIRST COLUMN\n",
    "arr = [\n",
    "    [1,2,3,4], \n",
    "    [5,6,7,8]\n",
    "]\n",
    "# columns\n",
    "# print('deleting by column', np.delete(arr, 0, axis=1))\n",
    "\n",
    "# GOAL: DELETE THE SECOND ROW\n",
    "# print('Deleting the second row: ', np.delete(arr, 1, axis=0 ))\n",
    "\n",
    "# DELETE USING FANCY INDEXING\n",
    "arr2 = np.array([1,2,3,4,5,6,7,8,9,10])\n",
    "indexList = [0,3,6]\n",
    "arr = arr2[indexList]\n",
    "print(arr)\n",
    "print(arr2)"
   ]
  },
  {
   "cell_type": "code",
   "execution_count": 43,
   "metadata": {},
   "outputs": [
    {
     "name": "stdout",
     "output_type": "stream",
     "text": [
      "[0 1 2 3]\n",
      "['apple' 'banana' 'cherry']\n"
     ]
    }
   ],
   "source": [
    "# SORTING\n",
    "\n",
    "# sorting numbers\n",
    "arr = np.array([3,2,0,1])\n",
    "print(np.sort(arr))\n",
    "\n",
    "\n",
    "# sorting strings\n",
    "arr2 = np.array(['banana', 'cherry', 'apple'])\n",
    "print(np.sort(arr2))\n"
   ]
  },
  {
   "cell_type": "code",
   "execution_count": null,
   "metadata": {},
   "outputs": [],
   "source": []
  }
 ],
 "metadata": {
  "kernelspec": {
   "display_name": "Python 3.10.2 64-bit",
   "language": "python",
   "name": "python3"
  },
  "language_info": {
   "codemirror_mode": {
    "name": "ipython",
    "version": 3
   },
   "file_extension": ".py",
   "mimetype": "text/x-python",
   "name": "python",
   "nbconvert_exporter": "python",
   "pygments_lexer": "ipython3",
   "version": "3.10.2"
  },
  "orig_nbformat": 4,
  "vscode": {
   "interpreter": {
    "hash": "5536d1e9ac15cb57bef2aa81bcb2158497de8527198450e0d96f7e92897fad97"
   }
  }
 },
 "nbformat": 4,
 "nbformat_minor": 2
}
